{
 "cells": [
  {
   "cell_type": "markdown",
   "metadata": {},
   "source": [
    "#  Introductions to constrainat-based modeling using cobrapy\n",
    "\n",
    "## Part 1: Basic Model Manipulations\n",
    "\n",
    "### Instructor:\n",
    "* Miguel Ponce de León from (Barcelona Supercomputing Center)\n",
    "* Contact: miguel.ponce@bsc.es\n",
    "\n",
    "11 December, 2020"
   ]
  },
  {
   "cell_type": "markdown",
   "metadata": {},
   "source": [
    "### Objective: \n",
    "\n",
    "To get familiar with COBRA library by creating a toy model from Kauffman et al (figure 1) and manipulating it.\n",
    "\n",
    "![title](img/toy_model.png)\n",
    "\n",
    "Figure 1. Toy model with three metabolites (A, B y C), four reactions\n",
    "(v1-v4) and three exchange fluxes (b1-b3). a) Model chart; b) Stoichiometric matrix\n",
    "\n",
    "### Let's create the model of figure to understand basic cobra objects"
   ]
  },
  {
   "cell_type": "code",
   "execution_count": null,
   "metadata": {},
   "outputs": [],
   "source": [
    "# Importing the required classes from core package\n",
    "import cobra\n",
    "\n",
    "from cobra.core import Model\n",
    "from cobra.core import Reaction\n",
    "from cobra.core import Metabolite"
   ]
  },
  {
   "cell_type": "code",
   "execution_count": null,
   "metadata": {},
   "outputs": [],
   "source": [
    "# Creating the model with id Toymodel\n",
    "toy_model = Model('Toymodel')\n",
    "toy_model.description = 'Just a toy model'\n",
    "print(\"We have created a model with ID:\", toy_model)\n",
    "print(\"List of model metabolites:\", toy_model.metabolites)\n",
    "print(\"List of model reactions:\", toy_model.reactions)\n",
    "print(\"List of model genes:\", toy_model.genes)"
   ]
  },
  {
   "cell_type": "code",
   "execution_count": null,
   "metadata": {},
   "outputs": [],
   "source": [
    "# Creating two metabolites and set them a comparment\n",
    "A = Metabolite(\"A\", name=\"I'm A\", formula=\"CH4\")\n",
    "A.compartment = 'cytosol'\n",
    "B = Metabolite(\"B\", name=\"I'm B\", formula=\"H2O\")\n",
    "B.compartment = 'cytosol'"
   ]
  },
  {
   "cell_type": "code",
   "execution_count": null,
   "metadata": {},
   "outputs": [],
   "source": [
    "######################\n",
    "# Create Metabolite C\n",
    "######################\n",
    "\n",
    "## TODO\n",
    "## Write your code below"
   ]
  },
  {
   "cell_type": "code",
   "execution_count": null,
   "metadata": {},
   "outputs": [],
   "source": [
    "## Add the metabolites to the model\n",
    "toy_model.add_metabolites([A, B, C])\n",
    "print(\"List of model metabolites:\")\n",
    "print(toy_model.metabolites)"
   ]
  },
  {
   "cell_type": "code",
   "execution_count": null,
   "metadata": {},
   "outputs": [],
   "source": [
    "# We can access metabolties from the model\n",
    "A = toy_model.metabolites.A\n",
    "# This is the safer way to access metabolties\n",
    "A = toy_model.metabolites.get_by_id(\"A\")\n",
    "# Print the reactions of a given metabolite\n",
    "print(A.name)\n",
    "# Print the reactions of a given metabolite\n",
    "print(A.reactions)\n",
    "# We get an empty set because we haven't created any reaction yet"
   ]
  },
  {
   "cell_type": "code",
   "execution_count": null,
   "metadata": {},
   "outputs": [],
   "source": [
    "# Creating the reactions b1, b2 ... v3\n",
    "\n",
    "# Create reaction with id b1\n",
    "b1 = Reaction(\"b1\")\n",
    "\n",
    "# To add metabolites to the reactions we need to pass\n",
    "# a dictionary with metabolites as keys\n",
    "# and the stoichiometric coefficients as values\n",
    "b1.add_metabolites({A: 1})\n",
    "b1.lower_bound = 0\n",
    "b1.upper_bound = 10\n",
    "\n",
    "# The same is done for the other reactions\n",
    "b2 = Reaction(\"b2\")\n",
    "# Metabolites are added to the reaction by passing a dictionary:\n",
    "# {metabolite_1: stoich_coef_1, ... , metabolite_n: stoich_coef_n}\n",
    "b2.add_metabolites({B: -1})\n",
    "b2.lower_bound = 0\n",
    "b2.upper_bound = 10\n",
    "\n",
    "\n",
    "b3 = Reaction(\"b3\")\n",
    "b3.add_metabolites({C: -1})\n",
    "# instead of seting bounds as b3.lower_bound = 0 / b3.upper_bound = 10\n",
    "# you can also set bounds as a tuple\n",
    "b3.bounds = (0, 10)\n",
    "\n",
    "v1 = Reaction(\"v1\")\n",
    "v1.add_metabolites({A:-1, B:1})\n",
    "v1.gene_reaction_rule = \"G1\"\n",
    "v1.bounds = (0, 10)\n",
    "\n",
    "v2 = Reaction(\"v2\")\n",
    "v2.add_metabolites({A:-1, C:1})\n",
    "v2.gene_reaction_rule = \"G1 and G2\"\n",
    "v2.bounds = (0, 10)\n",
    "\n",
    "v3 = Reaction(\"v3\")\n",
    "v3.add_metabolites({A:1, C:-1})\n",
    "v3.gene_reaction_rule = \"G3\"\n",
    "v3.bounds = (0, 10)"
   ]
  },
  {
   "cell_type": "code",
   "execution_count": null,
   "metadata": {},
   "outputs": [],
   "source": [
    "########################\n",
    "# Create reactions v4\n",
    "########################\n",
    "\n",
    "## TODO\n",
    "## Write your code below\n",
    "# Set the gene_reaction_rule as \"G3\""
   ]
  },
  {
   "cell_type": "code",
   "execution_count": null,
   "metadata": {},
   "outputs": [],
   "source": [
    "# Adding the reactions to the toy model\n",
    "# toy_model.add_reactions([b1,b2,b3,v1,v2,v3,v4])\n",
    "\n",
    "print(\"We have created a model with ID:\", toy_model)\n",
    "\n",
    "print(\"List of model metabolites:\")\n",
    "for m in toy_model.metabolites:\n",
    "    print(\" - \" + m.id)\n",
    "\n",
    "    print(\"List of model reactions:\")\n",
    "for r in toy_model.reactions:\n",
    "    print(\" - \" + r.id)\n",
    "    print(\"     GPR:\", r.gene_reaction_rule)\n",
    "    print(\"     reaction:\", r.reaction)\n",
    "    print(\"     Bounds: \", r.bounds)\n",
    "    print(\"     Is reversible: \", r.reversibility)\n",
    "    print(\"     Objective coefficient: \", r.objective_coefficient)\n",
    "\n",
    "print(\"List of model genes:\")\n",
    "for g in toy_model.genes:\n",
    "    print(\" - \" + g.id)\n"
   ]
  },
  {
   "cell_type": "code",
   "execution_count": null,
   "metadata": {},
   "outputs": [],
   "source": [
    "# print the balance equations of a metabolite\n",
    "\n",
    "A = toy_model.metabolites.A\n",
    "\n",
    "for r in toy_model.reactions:\n",
    "    if A not in r.metabolites:\n",
    "        stoich = 0\n",
    "    else:\n",
    "        stoich = r.get_coefficient(A)\n",
    "    print(A.id, r.id, stoich)\n",
    "\n",
    "\n",
    "################################\n",
    "# print stoichiometirc matrix\n",
    "################################\n",
    "    \n",
    "## TODO    \n",
    "## write "
   ]
  }
 ],
 "metadata": {
  "kernelspec": {
   "display_name": "cobrapy-env",
   "language": "python",
   "name": "cobrapy-env"
  },
  "language_info": {
   "codemirror_mode": {
    "name": "ipython",
    "version": 3
   },
   "file_extension": ".py",
   "mimetype": "text/x-python",
   "name": "python",
   "nbconvert_exporter": "python",
   "pygments_lexer": "ipython3",
   "version": "3.6.10"
  }
 },
 "nbformat": 4,
 "nbformat_minor": 4
}
