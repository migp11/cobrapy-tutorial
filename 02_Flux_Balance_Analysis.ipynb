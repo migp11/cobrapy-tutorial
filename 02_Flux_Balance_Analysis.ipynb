{
 "cells": [
  {
   "cell_type": "markdown",
   "metadata": {},
   "source": [
    "#  Introductions to constrainat-based modeling using cobrapy\n",
    "\n",
    "## Part 2: Flux Balance Analysis\n",
    "\n",
    "### Instructor:\n",
    "* Miguel Ponce de León from (Barcelona Supercomputing Center)\n",
    "* Contact: miguel.ponce@bsc.es\n",
    "\n",
    "11 December, 2020"
   ]
  },
  {
   "cell_type": "markdown",
   "metadata": {},
   "source": [
    "# Part 2: Genome-scale modelling.\n",
    "\n",
    "In this part we are gonna use a genome-scale metabolic model of Escherichia coli named iJO1366\n",
    "The file has already been stored in the data folder and its path is data/iJO1366.xml\n",
    "\n",
    "Alternatively, you can also access it here:\n",
    "- [http://bigg.ucsd.edu/models/iJO1366](http://bigg.ucsd.edu/models/iJO1366)\n",
    "\n",
    "to download the model and to see other metadata (citation, description, etc)\n",
    "\n",
    "## Part 2.1: Studying the model.\n",
    "\n",
    "### Read the SBML model\n",
    "\n",
    "First we need to import the function read_sbml_model from the cobra.io modules"
   ]
  },
  {
   "cell_type": "code",
   "execution_count": null,
   "metadata": {
    "ExecuteTime": {
     "end_time": "2022-11-23T12:25:40.321603Z",
     "start_time": "2022-11-23T12:25:38.494245Z"
    }
   },
   "outputs": [],
   "source": [
    "import cobra\n",
    "from cobra.io import read_sbml_model\n",
    "\n",
    "# State the path to the file iJO1366.xml\n",
    "sbml_fname = './data/iJO1366.xml'\n",
    "\n",
    "# Read the model\n",
    "model = read_sbml_model(sbml_fname)"
   ]
  },
  {
   "cell_type": "markdown",
   "metadata": {
    "collapsed": true
   },
   "source": [
    "## Exercise 2.1: Inspecting the model's numbers\n",
    "\n",
    "How many metabolites genes and reactions are contained in the model?"
   ]
  },
  {
   "cell_type": "code",
   "execution_count": null,
   "metadata": {},
   "outputs": [],
   "source": [
    "## TODO\n",
    "## Write your code below\n"
   ]
  },
  {
   "cell_type": "code",
   "execution_count": null,
   "metadata": {},
   "outputs": [],
   "source": [
    "# Inspecting the genes\n",
    "# 1. Access a particular reaction:\n",
    "#    * You can do it directly with: gene = model.genes.b0720\n",
    "#    * Or you can use the function get_by_id: gene = model.genes.get_by_id('b0720')\n",
    "\n",
    "b0720 = model.genes.b0720\n",
    "\n",
    "b0722 = model.genes.get_by_id('b0722')\n",
    "\n",
    "# 6. Inspect the reaction by printing:\n",
    "#    1. gene.name\n",
    "#    2. gene.id\n",
    "#    3. gene.reactions"
   ]
  },
  {
   "cell_type": "markdown",
   "metadata": {},
   "source": [
    "### Inspecting the systems' boundaries\n",
    "\n",
    "* see the exchange fluxes\n",
    "* see the objective function (the reaction set to be optimized)\n",
    "\n",
    "Use print(model.summary())\n",
    "\n",
    "You can also find the objective function using the following filtering technique:\n",
    "* [r for r in model.reactions if r.objective_coefficient == 1]\n",
    "* the reaction id of the biomass is Ec_biomass_iJO1366_WT_53p95M\n",
    "and the exchange fluxes can be accessed using:\n",
    "* model.boundary"
   ]
  },
  {
   "cell_type": "code",
   "execution_count": null,
   "metadata": {},
   "outputs": [],
   "source": [
    "## TODO\n",
    "## Write your code below\n"
   ]
  },
  {
   "cell_type": "markdown",
   "metadata": {},
   "source": [
    "### Running a Flux Balance Analysis (FBA).\n",
    "\n",
    "Documentation: [https://cobrapy.readthedocs.io/en/latest/simulating.html](https://cobrapy.readthedocs.io/en/latest/simulating.html)\n",
    "\n",
    "By default, the model boundary condition (growth medium) is M9 aerobic (glucose minimal)\n",
    "\n",
    "1.  Check the medium by inspecting the lower_bound of the following reactions:\n",
    "  * EX\\_glc\\_e\\_.lower_bound\n",
    "  * EX\\_o2\\_e\\_.lower_bound\n",
    "2.  Optimize biomass using: \n",
    "  * solution = model.optimize()\n",
    "  \n",
    "3.  Inspect the solution as we did previously in Part 1.2 Optimization.\n",
    "\n"
   ]
  },
  {
   "cell_type": "code",
   "execution_count": null,
   "metadata": {},
   "outputs": [],
   "source": [
    "solution = model.optimize()\n",
    "\n",
    "print(\"Objective value: %.2f\\n\" % solution.objective_value)\n",
    "print(\"Status: %s\\n\" % solution.status)\n",
    "\n",
    "print(\"Fluxes:\\n\")\n",
    "print(solution.fluxes)\n",
    "\n",
    "# Converting the solution into a pandas dataframe\n",
    "df = solution.to_frame()\n",
    "# Saving the solution into tab-separed-value (tsv) format (plain text)\n",
    "df.to_csv(\"out/iJO1366_fba.tsv\", sep=\"\\t\")"
   ]
  },
  {
   "cell_type": "markdown",
   "metadata": {},
   "source": [
    "Inspect the flux value of the following reactions\n",
    "* The glucose consumption: EX_glc_e_\n",
    "* The oxygen consumption: EX_o2_e_\n",
    "* The growth rate: Ec_biomass_iJO1366_WT_53p95M\n",
    "\n",
    "HINT 1: use the solution object -> solution.fluxes.reaction_id <br>\n",
    "HINT 2: use model.summary()"
   ]
  },
  {
   "cell_type": "code",
   "execution_count": null,
   "metadata": {},
   "outputs": [],
   "source": [
    "## TODO\n",
    "## Write your code below\n"
   ]
  },
  {
   "cell_type": "markdown",
   "metadata": {},
   "source": [
    "## Exercise 2.2: \n",
    "\n",
    "1. Change the oxygen exchange lower bound to zero to simulate anaerobic growth.\n",
    "2. Optimize the model\n",
    "3. What is the maximal growth rate in anaerobic conditions\n",
    "4. what are the main three secretion products?"
   ]
  },
  {
   "cell_type": "code",
   "execution_count": null,
   "metadata": {},
   "outputs": [],
   "source": [
    "## TODO\n",
    "## Write your code below\n"
   ]
  },
  {
   "cell_type": "markdown",
   "metadata": {},
   "source": [
    "## Exercise 2.3: \n",
    "\n",
    "1. Set the oxygen exchange lower bound to -20\n",
    "2. Set the glucose exchange flux (EX_glc_D_e_ lower bound to 0)\n",
    "3. Set the glucose exchange flux (EX_ac_e_ lower bound to -10)\n",
    "\n",
    "What is the maximal growth rate using acetate as soley carbon source\n",
    "what is the oxygen uptake rate?"
   ]
  },
  {
   "cell_type": "code",
   "execution_count": null,
   "metadata": {},
   "outputs": [],
   "source": [
    "## TODO\n",
    "## Write your code below\n"
   ]
  },
  {
   "cell_type": "markdown",
   "metadata": {},
   "source": [
    "## Optional Visualizing flux distributions using Escher\n",
    "\n",
    "[Escher documentation](https://escher.readthedocs.io/en/latest/)\n",
    "\n",
    "Escher online WebApp: [https://escher.github.io/](https://escher.github.io/#/)"
   ]
  },
  {
   "cell_type": "code",
   "execution_count": null,
   "metadata": {
    "ExecuteTime": {
     "end_time": "2022-11-23T12:25:19.799912Z",
     "start_time": "2022-11-23T12:25:18.507022Z"
    }
   },
   "outputs": [],
   "source": [
    "import escher\n",
    "from escher import Builder\n",
    "\n",
    "# Lets crate a builder by passing our model as well a given map name to tell escher how to represent the network\n",
    "# Check the escher web to see other maps https://escher.github.io/#/\n",
    "builder = Builder(organism='Escherichia coli', map_name='iJO1366.Central metabolism')\n",
    "builder.reaction_data = solution.fluxes\n",
    "builder"
   ]
  },
  {
   "cell_type": "code",
   "execution_count": null,
   "metadata": {},
   "outputs": [],
   "source": [
    "# Add the optimal flux distribution to our map builder\n",
    "model.reactions.EX_o2_e_.lower_bound = -20\n",
    "model.reactions.EX_glc_e_.lower_bound = -10\n",
    "model.reactions.EX_ac_e_.lower_bound = 0\n",
    "\n",
    "\n",
    "gene =  model.genes.b0720\n",
    "with model:\n",
    "    gene.knock_out()\n",
    "    ko_solution = model.optimize()\n",
    "\n",
    "builder.reaction_data = ko_solution.fluxes\n",
    "builder"
   ]
  }
 ],
 "metadata": {
  "kernelspec": {
   "display_name": "venv",
   "language": "python",
   "name": "venv"
  },
  "language_info": {
   "codemirror_mode": {
    "name": "ipython",
    "version": 3
   },
   "file_extension": ".py",
   "mimetype": "text/x-python",
   "name": "python",
   "nbconvert_exporter": "python",
   "pygments_lexer": "ipython3",
   "version": "3.8.10"
  },
  "latex_metadata": {
   "affiliation": "Barcelona Supercomputing Center, Barcelona Spain",
   "authors": "Miguel Ponce de Leon, Arnau Montagud",
   "title": "Constraint-based modelling tutorial"
  }
 },
 "nbformat": 4,
 "nbformat_minor": 1
}
